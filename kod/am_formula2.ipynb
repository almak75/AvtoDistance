{
 "cells": [
  {
   "cell_type": "markdown",
   "id": "9f855792",
   "metadata": {},
   "source": [
    "# Вариант 2. Нахождение расстояния по фокусному расстоянию"
   ]
  },
  {
   "cell_type": "code",
   "execution_count": 1,
   "id": "dc01a841",
   "metadata": {},
   "outputs": [],
   "source": [
    "import utils\n",
    "import torch\n",
    "import math\n",
    "import numpy as np \n",
    "from PIL import Image\n",
    "import cv2\n",
    "import os\n",
    "from pathlib import *\n",
    "import shutil\n",
    "import pandas as PD\n",
    "import pillow_heif\n",
    "import matplotlib.pyplot as plt\n",
    "%matplotlib inline\n",
    "PD.options.display.expand_frame_repr = False"
   ]
  },
  {
   "cell_type": "code",
   "execution_count": 2,
   "id": "bf5eefe2",
   "metadata": {},
   "outputs": [
    {
     "name": "stderr",
     "output_type": "stream",
     "text": [
      "YOLOv5  2022-8-24 Python-3.8.13 torch-1.11.0 CUDA:0 (NVIDIA GeForce RTX 3060 Laptop GPU, 6144MiB)\n"
     ]
    },
    {
     "name": "stdout",
     "output_type": "stream",
     "text": [
      "Setup complete  (16 CPUs, 39.3 GB RAM, 239.3/953.9 GB disk)\n",
      "cuda доступна True\n",
      "под каким номером CUDA: 0\n"
     ]
    }
   ],
   "source": [
    "display = utils.notebook_init() \n",
    "print('cuda доступна', torch.cuda.is_available())\n",
    "print('под каким номером CUDA:',torch.cuda.current_device())\n",
    "os.environ[\"KMP_DUPLICATE_LIB_OK\"]=\"TRUE\" #без этого ошибка будет"
   ]
  },
  {
   "cell_type": "code",
   "execution_count": 3,
   "id": "d30f6491",
   "metadata": {},
   "outputs": [],
   "source": [
    "#функция крутит картинку в зависимости от того, что нашла в характеристиках файла. \n",
    "def exif_transpose(img):\n",
    "    if not img:\n",
    "        return img\n",
    "    wh = img.size\n",
    "    if wh[0] > wh[1]:\n",
    "        return img\n",
    "    exif_orientation_tag = 274\n",
    "\n",
    "    # Check for EXIF data (only present on some files)\n",
    "    if hasattr(img, \"_getexif\") and isinstance(img._getexif(), dict) and exif_orientation_tag in img._getexif():\n",
    "        exif_data = img._getexif()\n",
    "        orientation = exif_data[exif_orientation_tag]\n",
    "\n",
    "        # Handle EXIF Orientation\n",
    "        if orientation == 1:\n",
    "            # Normal image - nothing to do!\n",
    "            pass\n",
    "        elif orientation == 2:\n",
    "            # Mirrored left to right\n",
    "            img = img.transpose(PIL.Image.FLIP_LEFT_RIGHT)\n",
    "        elif orientation == 3:\n",
    "            # Rotated 180 degrees\n",
    "            img = img.rotate(180)\n",
    "        elif orientation == 4:\n",
    "            # Mirrored top to bottom\n",
    "            img = img.rotate(180).transpose(PIL.Image.FLIP_LEFT_RIGHT)\n",
    "        elif orientation == 5:\n",
    "            # Mirrored along top-left diagonal\n",
    "            img = img.rotate(-90, expand=True).transpose(PIL.Image.FLIP_LEFT_RIGHT)\n",
    "        elif orientation == 6:\n",
    "            # Rotated 90 degrees\n",
    "            #print('повернули')\n",
    "            img = img.rotate(-90, expand=True)\n",
    "        elif orientation == 7:\n",
    "            # Mirrored along top-right diagonal\n",
    "            img = img.rotate(90, expand=True).transpose(PIL.Image.FLIP_LEFT_RIGHT)\n",
    "        elif orientation == 8:\n",
    "            # Rotated 270 degrees\n",
    "            img = img.rotate(90, expand=True)\n",
    "\n",
    "    return img"
   ]
  },
  {
   "cell_type": "code",
   "execution_count": 95,
   "id": "444493c7",
   "metadata": {},
   "outputs": [
    {
     "name": "stderr",
     "output_type": "stream",
     "text": [
      "Using cache found in C:\\Users\\Алексей/.cache\\torch\\hub\\ultralytics_yolov5_master\n",
      "YOLOv5  2022-8-24 Python-3.8.13 torch-1.11.0 CUDA:0 (NVIDIA GeForce RTX 3060 Laptop GPU, 6144MiB)\n",
      "\n",
      "Fusing layers... \n",
      "Model summary: 290 layers, 20852934 parameters, 0 gradients, 47.9 GFLOPs\n",
      "Adding AutoShape... \n",
      "Using cache found in C:\\Users\\Алексей/.cache\\torch\\hub\\ultralytics_yolov5_master\n",
      "YOLOv5  2022-8-24 Python-3.8.13 torch-1.11.0 CUDA:0 (NVIDIA GeForce RTX 3060 Laptop GPU, 6144MiB)\n",
      "\n",
      "Fusing layers... \n",
      "Model summary: 290 layers, 20852934 parameters, 0 gradients, 47.9 GFLOPs\n",
      "Adding AutoShape... \n"
     ]
    }
   ],
   "source": [
    "#model = torch.hub.load('ultralytics/yolov5', 'custom',  path='runs\\\\train\\\\bw\\\\exp4\\\\weights\\\\last.pt') #работает, но загружает каждый раз ЛУЧШЕЕ\n",
    "model = torch.hub.load('ultralytics/yolov5', 'custom',  path='my_model\\\\exp4\\\\weights\\\\best.pt') #работает, но загружает каждый раз\n",
    "model2 = torch.hub.load('ultralytics/yolov5', 'custom',  path='my_model\\\\points\\\\weights\\\\best.pt') #работает, но загружает каждый раз"
   ]
  },
  {
   "cell_type": "code",
   "execution_count": 5,
   "id": "905acab4",
   "metadata": {},
   "outputs": [],
   "source": [
    "def get_grayscale2(image):  #уменьшает изображение в 3 раза, что и хотелось бы сделать\n",
    "    #https://habr.com/ru/post/163663/\n",
    "    #convert image -colorspace gray image\n",
    "    img = Image.open(image).convert('L')\n",
    "    img.save(image)"
   ]
  },
  {
   "cell_type": "code",
   "execution_count": 6,
   "id": "432ecfcb",
   "metadata": {},
   "outputs": [],
   "source": [
    "from exif import Image as exif\n",
    "def  get_focus_from_exif(f):\n",
    "    with open(f, \"rb\") as palm_1_file:\n",
    "        palm_1_image = exif(palm_1_file)\n",
    "    if palm_1_image.has_exif:\n",
    "        focal = palm_1_image.get('focal_length_in_35mm_film', 'Unknown')\n",
    "        digital_zoom = palm_1_image.get('digital_zoom_ratio', 'Unknown')  #поиграем с зумом....а нет. зум начинает менять фокусное расстояние и он не нужен, но пусть будет пока.\n",
    "    else:\n",
    "        focal = 0\n",
    "        digital_zoom = 1\n",
    "    \n",
    "    return focal, digital_zoom"
   ]
  },
  {
   "cell_type": "code",
   "execution_count": 7,
   "id": "176d44ab",
   "metadata": {},
   "outputs": [],
   "source": [
    "#конвертируем heic_to_jpg. на входе - исходный файл и путь к новому файлу, возвращает путь к новому файлу\n",
    "def conv_heic_to_jpg(file, new_name):\n",
    "\n",
    "    heif_file = pillow_heif.read_heif(file)\n",
    "    image = Image.frombytes(\n",
    "        heif_file.mode,\n",
    "        heif_file.size,\n",
    "        heif_file.data,\n",
    "        \"raw\",\n",
    "    )\n",
    "\n",
    "    ex = heif_file.info['exif']\n",
    "    image.save(new_name, format(\"jpeg\"), exif=ex)\n",
    "    image.close()\n",
    "    return new_name"
   ]
  },
  {
   "cell_type": "code",
   "execution_count": 8,
   "id": "1b4c61f3",
   "metadata": {},
   "outputs": [],
   "source": [
    "#распознавание файла и получение из него данных по централььному номеру\n",
    "def res(file, show_pandas = 0):\n",
    "    if '.heic' in file:\n",
    "        temp_file = 'tmp.jpg'  #нужен временный файл, чтобы не портить датасет\n",
    "        file = conv_heic_to_jpg(work_file,temp_file)\n",
    "    \n",
    "    im = Image.open(file)\n",
    "    (width, height) = im.size\n",
    "    \n",
    "    results = model(file)\n",
    "    pd = results.pandas().xyxy[0]\n",
    " \n",
    "    pd = pd.loc[pd['name'] == 'znak']                   #таблица со знаками\n",
    "    \n",
    "    #все номера нам не надо. Нам надо только тот, что ближе к центру\n",
    "\n",
    "    #ОБРАБАТЫВАЕМ ЗНАКИ\n",
    "    if show_pandas == 1:\n",
    "        print('Знаки\\n',pd)\n",
    "    \n",
    "    pd = pd.assign(to_centre_x = abs(width/2 - (pd.xmin + (pd.xmax-pd.xmin)/2)))     #считаем расстояние до центра\n",
    "    pd = pd.assign(centre_x = pd.xmin + (pd.xmax-pd.xmin)/2)                         #считаем координаты центра \n",
    "    \n",
    "    pd = pd.assign(width = pd.xmax - pd.xmin)                                        #ширина\n",
    "    pd = pd.assign(height = pd.ymax - pd.ymin)                                       #высота\n",
    "    pd = pd.assign(s2 = pd.width * pd.height)                                        #площадь\n",
    "    \n",
    "    pd = pd.sort_values(['to_centre_x'] )                                            #сортируем по близости к центру. Нам надо самый близкий номер\n",
    "    \n",
    "    \n",
    "    d = dict()   #в этом словаре будут все результаты\n",
    "    for index, row in pd.iterrows():\n",
    "        d ['width']  = row['width']\n",
    "        d ['height']  = row['height']\n",
    "        d ['s2']  = row['s2']\n",
    "        d ['xmin']  = row['xmin']\n",
    "        d ['ymin']  = row['ymin']\n",
    "        d ['xmax']  = row['xmax']\n",
    "        d ['ymax']  = row['ymax']\n",
    "        break\n",
    "    #Сейчас в d - все характеристики знака. \n",
    "    \n",
    "    d['im_width'] = width\n",
    "    d['im_height'] = height\n",
    "    \n",
    "    \n",
    "    return d    \n",
    "        \n",
    "             "
   ]
  },
  {
   "cell_type": "code",
   "execution_count": 84,
   "id": "1f7b5c10",
   "metadata": {},
   "outputs": [],
   "source": [
    "#процедура вырезает знак, просто чтобы посмотреть, что там нашлось. Нужно было для отладки\n",
    "#на входе - файл, и словарь с данными о знаке\n",
    "#ВНИМАНИЕ! ИСПОРТИТ полученный файл\n",
    "def crop_znak(temp_file,znak):\n",
    "    if len(znak) <= 3:\n",
    "        #print('не смог кроопнуть', temp_file)\n",
    "        return\n",
    "    img = Image.open(temp_file)\n",
    "    xmin  = znak['xmin']\n",
    "    ymin = znak['ymin']\n",
    "    xmax  = znak['xmax']\n",
    "    ymax  = znak['ymax']\n",
    "    сentre_x = xmin + (xmax-xmin)/2\n",
    "    сentre_y = ymin + (ymax-ymin)/2\n",
    "    w_max = max(xmax-xmin, ymax-ymin)/2\n",
    "    #print((xmin, ymin,xmax, ymax))\n",
    "    img = img.crop((сentre_x-w_max, сentre_y-w_max,сentre_x+w_max, сentre_y+w_max))\n",
    "    img = img.resize((640,640))\n",
    "    print('сохраняем в ',temp_file)\n",
    "    img.save(temp_file)\n",
    "    #считаем коэффициент кроп\n",
    "    k = znak['width']/640\n",
    "    return k\n"
   ]
  },
  {
   "cell_type": "code",
   "execution_count": 10,
   "id": "ddc4ae10",
   "metadata": {},
   "outputs": [],
   "source": [
    "#вырезаем область вокруг знака, чтобы подать ее потом снова в сеть для более точного распознавания. \n",
    "def mini_pic(temp_file,znak):\n",
    "    if len(znak) == 3:\n",
    "        print('не смог кроопнуть', temp_file)\n",
    "        return\n",
    "    if znak['width'] >400: #режем только если знак очень мелкий\n",
    "        return\n",
    "    \n",
    "    img = Image.open(temp_file)\n",
    "    xmin  = znak['xmin']\n",
    "    ymin = znak['ymin']\n",
    "    xmax  = znak['xmax']\n",
    "    ymax  = znak['ymax']\n",
    "    centre_x = xmin + (xmax - xmin)/2\n",
    "    centre_y = ymin + (ymax - ymin)/2\n",
    "    #print((xmin, ymin,xmax, ymax))\n",
    "    img = img.crop((centre_x-480, centre_y - 480,centre_x+480, centre_y + 480))\n",
    "    img.save(temp_file)\n",
    "    #print('минипик',temp_file,centre_x,centre_y, znak['width'])\n",
    "    \n",
    "#пытаемся вырезать область вокруг знака, чтобы подать ее потом снова в сеть для более точного распознавания.  \n",
    "#это если знак на фото мелкий и она вообще ничего не нашла. делаем кроп по центру 960х960\n",
    "def zoom960(temp_file):\n",
    "    \n",
    "    img = Image.open(temp_file)\n",
    "    w,h = img.size\n",
    "    centre_x = w//2\n",
    "    centre_y = h//2\n",
    "    img = img.crop((centre_x-480, centre_y - 480,centre_x+480, centre_y + 480))\n",
    "    img.save(temp_file)\n",
    " "
   ]
  },
  {
   "cell_type": "code",
   "execution_count": 146,
   "id": "bd20af11",
   "metadata": {},
   "outputs": [],
   "source": [
    "#Здесь мы корректируем знак: в зависимости от соотношения между найденными сторонами находим угол и по нему считаем во что превратилось 520\n",
    "from math import atan, sin, cos, tan,degrees\n",
    "def correct_znak2(znak):\n",
    "    \n",
    "    w_znak = 529 #ширина знака в мм\n",
    "    h_znak = 112\n",
    "    if len(znak) == 3: #похоже, что не рааспознался\n",
    "        return w_znak\n",
    "    #сначала ищем угол наклона знака по соотношению сторон\n",
    "    HW  = 112/520 #стандартное соотношение между сторонами\n",
    "    hw = znak['height']/znak['width']#найденное соотнощение между сторонами\n",
    "    tan_alfa = -(HW - hw) / (1 - HW * hw)\n",
    "    alfa_rad = abs(math.atan(tan_alfa)) #нашли угол наклона знака в радианах\n",
    "    print('приблизительно повернуто',degrees(alfa_rad))\n",
    "    \n",
    "    new_AB = w_znak * cos(alfa_rad) + h_znak * sin(alfa_rad)\n",
    "    #new_w = (CD-AB/tan(alfa_rad)) / (sin(alfa_rad) - cos(alfa_rad)*cos(alfa_rad)/sin(alfa_rad))\n",
    "    \n",
    "    print('корректировка длины знака','520', '---->',new_AB)\n",
    "    \n",
    "    return new_AB\n",
    "\n",
    "\n",
    "#старая версия, она корреткирует не 520, а найденное значение ширины уменьшает.\n",
    "# def correct_znak(znak):\n",
    "#     if len(znak) == 3: #похоже, что не рааспознался\n",
    "#         return znak\n",
    "#     #сначала ищем угол наклона знака по соотношению сторон\n",
    "#     HW  = 112/520 #стандартное соотношение между сторонами\n",
    "#     hw = znak['height']/znak['width']#найденное соотнощение между сторонами\n",
    "#     tan_alfa = -(HW - hw) / (1 - HW * hw)\n",
    "#     alfa_rad = math.atan(tan_alfa) #нашли угол наклона знака в радианах\n",
    "#     print('приблизительно повернуто',degrees(alfa_rad))\n",
    "    \n",
    "#     CD = znak['height']\n",
    "#     AB = znak['width']\n",
    "#     new_w = (CD-AB/tan(alfa_rad)) / (sin(alfa_rad) - cos(alfa_rad)*cos(alfa_rad)/sin(alfa_rad))\n",
    "    \n",
    "#     print('корректировка длины знака',znak['width'], '---->',new_w)\n",
    "#     znak['width'] = new_w\n",
    "#     return znak\n",
    "    "
   ]
  },
  {
   "cell_type": "code",
   "execution_count": 46,
   "id": "e4a35c85",
   "metadata": {},
   "outputs": [],
   "source": [
    "#ЭТА ФУНКЦИЯ ИЩЕТ РАССТОЯНИЕ МЕЖДУ ДВУМЯ точчками крепления на номере и возвращает его в пикселях\n",
    "def res2(file, show_pandas = 0):\n",
    "#     if '.heic' in file:\n",
    "#         temp_file = 'tmp.jpg'  #нужен временный файл, чтобы не портить датасет\n",
    "#         file = conv_heic_to_jpg(work_file,temp_file)\n",
    "    \n",
    "    im = Image.open(file)\n",
    "    (width, height) = im.size\n",
    "    \n",
    "    results = model2(file)\n",
    "    pd = results.pandas().xyxy[0]\n",
    " \n",
    "    pd = pd.loc[pd['name'] == 'znak']                   #таблица со знаками\n",
    "    \n",
    "    #все номера нам не надо. Нам надо только тот, что ближе к центру\n",
    "\n",
    "    #ОБРАБАТЫВАЕМ точки на знаке\n",
    "    if show_pandas == 1:\n",
    "        print('Знаки\\n',pd)\n",
    "    \n",
    "    \n",
    "    pd = pd.assign(centre_x = pd.xmin + (pd.xmax-pd.xmin)/2)                         #считаем координаты центра \n",
    "    pd = pd.assign(centre_y = pd.ymin + (pd.ymax-pd.ymin)/2)                         #считаем координаты центра \n",
    "    \n",
    "    \n",
    "    pd = pd.assign(width = pd.xmax - pd.xmin)                                        #ширина\n",
    "    pd = pd.assign(height = pd.ymax - pd.ymin)                                       #высота\n",
    "    \n",
    "    pd = pd.loc[pd['centre_y'] >280]\n",
    "    pd = pd.loc[pd['centre_y'] <380]\n",
    "    \n",
    "    pd = pd.sort_values(['centre_x'] )                                            #сортируем по близости к центру. Нам надо самый близкий номер\n",
    "    \n",
    "    if show_pandas == 1:\n",
    "        print('отсортировано\\n',pd)\n",
    "    d = []   #в этом будут две точки, нам надо найти расстояние между ними\n",
    "    for index, row in pd.iterrows():\n",
    "        d.append([row['centre_x'],row['centre_y']])\n",
    "    if len(d) == 2:\n",
    "        r = ((d[0][0] - d[1][0])**2 + (d[0][1] - d[1][1])**2) **0.5\n",
    "    else:\n",
    "        r = 0\n",
    "        \n",
    "     \n",
    "    if show_pandas == 1:\n",
    "        print('Расстояние', r)\n",
    "    \n",
    "    \n",
    "    return r    \n",
    "        "
   ]
  },
  {
   "cell_type": "code",
   "execution_count": 62,
   "id": "3732feda",
   "metadata": {},
   "outputs": [
    {
     "name": "stdout",
     "output_type": "stream",
     "text": [
      "Знаки\n",
      "          xmin        ymin        xmax        ymax  confidence  class  name\n",
      "0  614.981262  300.257507  627.810974  313.202515    0.737279      0  znak\n",
      "1   14.071442  325.275391   27.708603  339.688538    0.722411      0  znak\n",
      "отсортировано\n",
      "          xmin        ymin        xmax        ymax  confidence  ...  name    centre_x    centre_y      width     height\n",
      "1   14.071442  325.275391   27.708603  339.688538    0.722411  ...  znak   20.890022  332.481964  13.637161  14.413147\n",
      "0  614.981262  300.257507  627.810974  313.202515    0.737279  ...  znak  621.396118  306.730011  12.829712  12.945007\n",
      "\n",
      "[2 rows x 11 columns]\n",
      "Расстояние 601.0580124133401\n"
     ]
    },
    {
     "data": {
      "text/plain": [
       "601.0580124133401"
      ]
     },
     "execution_count": 62,
     "metadata": {},
     "output_type": "execute_result"
    }
   ],
   "source": [
    "res2('Y:\\\\img_1931.jpg',1)"
   ]
  },
  {
   "cell_type": "code",
   "execution_count": 154,
   "id": "6d2be301",
   "metadata": {},
   "outputs": [],
   "source": [
    "def file_recognition(f):\n",
    "    w_znak = 520 #ширина знака в мм\n",
    "    #w = 4032    #разрешение матрицы/фото в пикселях\n",
    "    \n",
    "    name = f[f.rfind('\\\\')+1:]\n",
    "    work_file = f\n",
    "    temp_file = 'temp.jpg'\n",
    "    #temp_file = 'Y:\\\\'+name\n",
    "    if '.heic' in f:\n",
    "        temp_file = 'Y:\\\\'+name.replace('.heic','.jpg')\n",
    "        print('Новое имя',temp_file)\n",
    "        work_file = conv_heic_to_jpg(work_file,temp_file)\n",
    "        #print('Сконвертирован в',work_file)\n",
    "    focus, digital_zoom = get_focus_from_exif(work_file)\n",
    "    print('focus, digital_zoom',focus, digital_zoom)\n",
    "     \n",
    "    img = Image.open(work_file)\n",
    "    img = exif_transpose(img)\n",
    "    w,h = img.size\n",
    "    img.save(temp_file)\n",
    "    \n",
    "    img.close()\n",
    "\n",
    "    #get_grayscale2(temp_file)  #пытался работать с серым. не очень.\n",
    "    \n",
    "    znak1 = res(temp_file)\n",
    "    znak = znak1\n",
    "    \n",
    "#     #Заходим еще 1 раз, если ничего не нашли. просто на удачу\n",
    "#     if len(znak) <= 3:\n",
    "#         zoom960(temp_file)\n",
    "#         znak1 = res(temp_file)\n",
    "#         znak = znak1\n",
    "        \n",
    "    \n",
    "    \n",
    "    #ЭКСПЕРИМЕНТ\n",
    "#     if len(znak1) <= 3:\n",
    "#         print('ФАЙЛ НЕ РАСПОЗНАН', f)\n",
    "#         not_recognize.append(f) \n",
    "#         return 0.0\n",
    "    \n",
    "#     #пробуем вырезать область,чтобы знак был бллиже. количество пикселей от этого не меняется\n",
    "#     print('ширина до мини пика', znak1['width'])\n",
    "\n",
    "#     mini_pic(temp_file,znak1)\n",
    "#     #вырезали и еще раз на распознавание\n",
    "#     znak = res(temp_file)\n",
    "#     if len(znak) != 3:\n",
    "#         print('ширина после мини пика', znak['width'], 'уточнение', znak1['width']-znak['width'])\n",
    "#     else: #почему то после зума, знак не распознался. Возвращаем то, что было, это всяко лучше чем ноль\n",
    "#         znak = znak1\n",
    "        \n",
    "    #....конец эксперимента.\n",
    "    \n",
    "    \n",
    "    \n",
    "   \n",
    "    \n",
    "    w_matrix = 35# 34.974 #ширина матрицы в мм. Вроде бы именнь это классическая ширина, но ее в разговоре просто округляют до 35 мм.\n",
    "    #print('ширина кадра',w)\n",
    "    pixel_in_mm = w/w_matrix\n",
    "    d1 = 0\n",
    "    if 'width' in znak:\n",
    "        k = crop_znak(temp_file,znak)  #коэффикиент кропа\n",
    "        r = res2(temp_file) #получили расстояние между двумя точками на номере \n",
    "        print('r,k',r* k,znak['width'])\n",
    "        if r!=0:\n",
    "            r = r * k #привели к нормальной ширине\n",
    "            #print(r)\n",
    "            d1 = (1 + 487 /(r/pixel_in_mm))* focus/1000\n",
    "            print('расстояние по точкам', d1)\n",
    "            return d1 #если есть расстояние между точками - за ним преимущество\n",
    "    \n",
    "    \n",
    "    if len(znak) <= 3:\n",
    "        print('ФАЙЛ НЕ РАСПОЗНАН', f)\n",
    "        not_recognize.append(f)\n",
    "        d = 0.0\n",
    "    #формируем строку с параметрами знака для записи в csv\n",
    "    else:\n",
    "         #уточнение полученнного расстояние\n",
    "        w_znak = correct_znak2(znak)\n",
    "        d = (1 + w_znak /(znak['width']/pixel_in_mm))* focus/1000  #ну вот тут я заморочился. не мог решить до чего считать расстояние - до оптического центра или до матрицы. Стал считать до матрицы. Объектив может гулять от матрицы на много см.\n",
    "    \n",
    "    return d"
   ]
  },
  {
   "cell_type": "code",
   "execution_count": 167,
   "id": "6208c8b9",
   "metadata": {},
   "outputs": [
    {
     "name": "stdout",
     "output_type": "stream",
     "text": [
      "381 работаем  с файлом:  ..\\data_set\\test\\img_2674.heic\n",
      "Новое имя Y:\\img_2674.jpg\n",
      "focus, digital_zoom 14 1.0327868852459017\n",
      "ФАЙЛ НЕ РАСПОЗНАН ..\\data_set\\test\\img_2674.heic\n",
      "Записан результат:  img_2674.heic;0.0\n",
      "\n",
      "\n",
      "\n",
      "382 работаем  с файлом:  ..\\data_set\\test\\img_2675.jpg\n",
      "focus, digital_zoom 14 1.0223123732251522\n",
      "сохраняем в  temp.jpg\n",
      "r,k 148.69137140255333 158.6239013671875\n",
      "расстояние по точкам 5.296307860848156\n",
      "Записан результат:  img_2675.jpg;5.296307860848156\n",
      "\n",
      "\n",
      "\n",
      "383 работаем  с файлом:  ..\\data_set\\test\\img_2676.jpg\n",
      "focus, digital_zoom 14 1.0223123732251522\n",
      "сохраняем в  temp.jpg\n",
      "r,k 189.8632736006027 206.633056640625\n",
      "расстояние по точкам 4.150837973478968\n",
      "Записан результат:  img_2676.jpg;4.150837973478968\n",
      "\n",
      "\n",
      "\n",
      "384 работаем  с файлом:  ..\\data_set\\test\\img_2677.heic\n",
      "Новое имя Y:\\img_2677.jpg\n",
      "focus, digital_zoom 14 1.0327868852459017\n",
      "сохраняем в  Y:\\img_2677.jpg\n",
      "r,k 139.3193845650131 157.6392822265625\n",
      "расстояние по точкам 5.651647642876854\n",
      "Записан результат:  img_2677.heic;5.651647642876854\n",
      "\n",
      "\n",
      "\n",
      "385 работаем  с файлом:  ..\\data_set\\test\\img_2677.jpg\n",
      "focus, digital_zoom 14 1.0223123732251522\n",
      "сохраняем в  temp.jpg\n",
      "r,k 225.94761113157276 239.9176025390625\n",
      "расстояние по точкам 3.490175720851636\n",
      "Записан результат:  img_2677.jpg;3.490175720851636\n",
      "\n",
      "\n",
      "\n",
      "не распознано файлов 1\n",
      "не распознанные ..\\data_set\\test\\img_2674.heic\n",
      "сохранено в  ..\\data_set\\sample_solution.csv\n",
      "Ошибка не посчитана. Истинных данных не обнаружено. Датасет тестовый?\n"
     ]
    }
   ],
   "source": [
    "train_csv = '..\\\\data_set\\\\train.csv'  #данные датасета если прогонять на тренировочном датасете, то будет считаться ошибка.\n",
    "keys = ['width', 'height', 's2', 'xmin', 'ymin', 'xmax', 'ymax','im_width', 'im_height']\n",
    "pic_data = '..\\\\data_set\\\\train'  #здесь лежит датасет\n",
    "pic_data_test  = pic_data\n",
    "#ДЛЯ ПРОГОНА НА СВОЕМ ДАТАСЕТЕ НАДО ИЗМЕНИТЬ ЭТОТ ПУТЬ\n",
    "pic_data_test = '..\\\\data_set\\\\test'  #здесь лежит тестовы датасет\n",
    "\n",
    "\n",
    "\n",
    "\n",
    "test = '..\\\\data_set\\\\sample_solution.csv'  #сюда запишется резултат\n",
    "\n",
    "#сначала прочитаем все данные нам растояния из тренировочного датасета\n",
    "dist = dict()  #здесь будем храть все расстояния добытые из файла. В виде словаря\n",
    "with open(train_csv, 'r', encoding='utf-8') as file:\n",
    "    for line in file:\n",
    "        line = line.replace('\\n','')\n",
    "        key, d = line.split(';')\n",
    "        dist[key] = d\n",
    "        \n",
    "    \n",
    "\n",
    "\n",
    "new_f = 'image_name;distance'\n",
    "not_recognize = []  #здесь будут не распознанные\n",
    "n = 0\n",
    "abs_mistake, otn_mistake, vsego = 0, 0, 0  #для подсчета ошибки\n",
    "for f in os.listdir(pic_data_test):\n",
    "    n +=1\n",
    "    if n<= 380:\n",
    "        continue\n",
    "    if n>385:\n",
    "         break\n",
    "    \n",
    "    \n",
    "    work_file = os.path.join(pic_data_test, f)\n",
    "    print(n,'работаем  с файлом: ',work_file)\n",
    "\n",
    "    itog = file_recognition(work_file)\n",
    "    \n",
    "    #получаем истинное значение, считаем ошибку\n",
    "    if f in dist:\n",
    "        y = float(dist[f])\n",
    "        mistake = (y - itog) / y #извините, что не пользуюсь вашей ошибкой, но мне в процентах понятнее, а так как я не тренирую на ошибке, то сделал так.\n",
    "        print('ошибка',mistake, 'ист', y, 'предск',itog)\n",
    "        otn_mistake += mistake  #это нужно, чтобы смотреть сваливается в плюс или в минус\n",
    "        abs_mistake += abs(mistake)\n",
    "        vsego +=1\n",
    "    \n",
    "    \n",
    "    st = f+';' + str(itog)\n",
    "    print('Записан результат: ',st)\n",
    "    print('\\n\\n')    \n",
    "    new_f = new_f +'\\n'+st\n",
    "    \n",
    "#print(new_f)\n",
    "with open(test, 'w', encoding = 'utf-8') as file:\n",
    "    file.write(new_f)\n",
    "print('не распознано файлов', len(not_recognize))\n",
    "print('не распознанные', *not_recognize)\n",
    "print('сохранено в ',test)\n",
    "if vsego != 0:\n",
    "    print('Абс ошибка', round(abs_mistake/vsego*100, 5))\n",
    "    print('Относительная ошибка', round(otn_mistake/vsego*100, 5))\n",
    "else:\n",
    "    print('Ошибка не посчитана. Истинных данных не обнаружено. Датасет тестовый?')"
   ]
  },
  {
   "cell_type": "code",
   "execution_count": 56,
   "id": "52c48a5d",
   "metadata": {},
   "outputs": [
    {
     "name": "stdout",
     "output_type": "stream",
     "text": [
      "Знаки\n",
      "           xmin         ymin         xmax         ymax  confidence  class  name\n",
      "0  1760.632202  1313.192139  2381.237305  1438.997437    0.952805      0  znak\n"
     ]
    },
    {
     "data": {
      "text/plain": [
       "{'width': 620.6051025390625,\n",
       " 'height': 125.8052978515625,\n",
       " 's2': 78075.40977312624,\n",
       " 'xmin': 1760.6322021484375,\n",
       " 'ymin': 1313.192138671875,\n",
       " 'xmax': 2381.2373046875,\n",
       " 'ymax': 1438.9974365234375,\n",
       " 'im_width': 3968,\n",
       " 'im_height': 2976}"
      ]
     },
     "execution_count": 56,
     "metadata": {},
     "output_type": "execute_result"
    }
   ],
   "source": [
    "res('Y:\\\\255_1.jpg',1)"
   ]
  },
  {
   "cell_type": "code",
   "execution_count": 166,
   "id": "2dce39d1",
   "metadata": {},
   "outputs": [
    {
     "name": "stdout",
     "output_type": "stream",
     "text": [
      "Новое имя Y:\\img_2674.jpg\n",
      "focus, digital_zoom 14 1.0327868852459017\n",
      "ФАЙЛ НЕ РАСПОЗНАН ..\\data_set\\test\\img_2674.heic\n"
     ]
    },
    {
     "data": {
      "text/plain": [
       "0.0"
      ]
     },
     "execution_count": 166,
     "metadata": {},
     "output_type": "execute_result"
    }
   ],
   "source": [
    "file_recognition('..\\\\data_set\\\\test\\\\img_2674.heic')"
   ]
  },
  {
   "cell_type": "code",
   "execution_count": 161,
   "id": "37db3b08",
   "metadata": {},
   "outputs": [
    {
     "name": "stdout",
     "output_type": "stream",
     "text": [
      "focus, digital_zoom 27 1.0\n",
      "сохраняем в  temp.jpg\n",
      "r,k 592.7320572254057 619.9266357421875\n",
      "расстояние по точкам 2.5419996463221812\n",
      "2.5419996463221812\n",
      "\n",
      "\n",
      "focus, digital_zoom 31 1.0\n",
      "сохраняем в  temp.jpg\n",
      "r,k 718.0005061784991 743.150390625\n",
      "расстояние по точкам 2.414798399046464\n",
      "2.414798399046464\n",
      "\n",
      "\n",
      "focus, digital_zoom 52 1.0\n",
      "сохраняем в  temp.jpg\n",
      "r,k 1166.430252539312 1251.6114501953125\n",
      "расстояние по точкам 2.513371394382705\n",
      "2.513371394382705\n",
      "\n",
      "\n"
     ]
    }
   ],
   "source": [
    "print(file_recognition('Y:\\\\255_1.jpg'))\n",
    "\n",
    "print('\\n')\n",
    "print(file_recognition('Y:\\\\255_2.jpg'))\n",
    "\n",
    "\n",
    "print('\\n')\n",
    "\n",
    "print(file_recognition('Y:\\\\255_3.jpg'))\n",
    "\n",
    "\n",
    "print('\\n')"
   ]
  },
  {
   "cell_type": "code",
   "execution_count": 160,
   "id": "fc2c2ae6",
   "metadata": {},
   "outputs": [
    {
     "ename": "FileNotFoundError",
     "evalue": "[Errno 2] No such file or directory: 'Y:\\\\421_1.jpg'",
     "output_type": "error",
     "traceback": [
      "\u001b[1;31m---------------------------------------------------------------------------\u001b[0m",
      "\u001b[1;31mFileNotFoundError\u001b[0m                         Traceback (most recent call last)",
      "Input \u001b[1;32mIn [160]\u001b[0m, in \u001b[0;36m<cell line: 1>\u001b[1;34m()\u001b[0m\n\u001b[1;32m----> 1\u001b[0m \u001b[38;5;28mprint\u001b[39m(\u001b[43mfile_recognition\u001b[49m\u001b[43m(\u001b[49m\u001b[38;5;124;43m'\u001b[39;49m\u001b[38;5;124;43mY:\u001b[39;49m\u001b[38;5;130;43;01m\\\\\u001b[39;49;00m\u001b[38;5;124;43m421_1.jpg\u001b[39;49m\u001b[38;5;124;43m'\u001b[39;49m\u001b[43m)\u001b[49m)\n\u001b[0;32m      2\u001b[0m \u001b[38;5;28mprint\u001b[39m(\u001b[38;5;124m'\u001b[39m\u001b[38;5;130;01m\\n\u001b[39;00m\u001b[38;5;124m'\u001b[39m)\n\u001b[0;32m      3\u001b[0m \u001b[38;5;28mprint\u001b[39m(file_recognition(\u001b[38;5;124m'\u001b[39m\u001b[38;5;124mY:\u001b[39m\u001b[38;5;130;01m\\\\\u001b[39;00m\u001b[38;5;124m421_2.jpg\u001b[39m\u001b[38;5;124m'\u001b[39m))\n",
      "Input \u001b[1;32mIn [154]\u001b[0m, in \u001b[0;36mfile_recognition\u001b[1;34m(f)\u001b[0m\n\u001b[0;32m     12\u001b[0m     work_file \u001b[38;5;241m=\u001b[39m conv_heic_to_jpg(work_file,temp_file)\n\u001b[0;32m     13\u001b[0m     \u001b[38;5;66;03m#print('Сконвертирован в',work_file)\u001b[39;00m\n\u001b[1;32m---> 14\u001b[0m focus, digital_zoom \u001b[38;5;241m=\u001b[39m \u001b[43mget_focus_from_exif\u001b[49m\u001b[43m(\u001b[49m\u001b[43mwork_file\u001b[49m\u001b[43m)\u001b[49m\n\u001b[0;32m     15\u001b[0m \u001b[38;5;28mprint\u001b[39m(\u001b[38;5;124m'\u001b[39m\u001b[38;5;124mfocus, digital_zoom\u001b[39m\u001b[38;5;124m'\u001b[39m,focus, digital_zoom)\n\u001b[0;32m     17\u001b[0m img \u001b[38;5;241m=\u001b[39m Image\u001b[38;5;241m.\u001b[39mopen(work_file)\n",
      "Input \u001b[1;32mIn [6]\u001b[0m, in \u001b[0;36mget_focus_from_exif\u001b[1;34m(f)\u001b[0m\n\u001b[0;32m      2\u001b[0m \u001b[38;5;28;01mdef\u001b[39;00m  \u001b[38;5;21mget_focus_from_exif\u001b[39m(f):\n\u001b[1;32m----> 3\u001b[0m     \u001b[38;5;28;01mwith\u001b[39;00m \u001b[38;5;28;43mopen\u001b[39;49m\u001b[43m(\u001b[49m\u001b[43mf\u001b[49m\u001b[43m,\u001b[49m\u001b[43m \u001b[49m\u001b[38;5;124;43m\"\u001b[39;49m\u001b[38;5;124;43mrb\u001b[39;49m\u001b[38;5;124;43m\"\u001b[39;49m\u001b[43m)\u001b[49m \u001b[38;5;28;01mas\u001b[39;00m palm_1_file:\n\u001b[0;32m      4\u001b[0m         palm_1_image \u001b[38;5;241m=\u001b[39m exif(palm_1_file)\n\u001b[0;32m      5\u001b[0m     \u001b[38;5;28;01mif\u001b[39;00m palm_1_image\u001b[38;5;241m.\u001b[39mhas_exif:\n",
      "\u001b[1;31mFileNotFoundError\u001b[0m: [Errno 2] No such file or directory: 'Y:\\\\421_1.jpg'"
     ]
    }
   ],
   "source": [
    "print(file_recognition('Y:\\\\421_1.jpg'))\n",
    "print('\\n')\n",
    "print(file_recognition('Y:\\\\421_2.jpg'))\n",
    "print('\\n')\n",
    "\n",
    "print(file_recognition('Y:\\\\421_3.jpg'))\n",
    "print('\\n')"
   ]
  },
  {
   "cell_type": "code",
   "execution_count": 91,
   "id": "524a3cde",
   "metadata": {},
   "outputs": [
    {
     "name": "stdout",
     "output_type": "stream",
     "text": [
      "4.923146672370446\n",
      "\n",
      "\n",
      "4.690990338609638\n",
      "\n",
      "\n",
      "4.974977451052313\n",
      "\n",
      "\n"
     ]
    }
   ],
   "source": [
    "print(file_recognition('Y:\\\\490_1.jpg'))\n",
    "print('\\n')\n",
    "print(file_recognition('Y:\\\\490_2.jpg'))\n",
    "print('\\n')\n",
    "\n",
    "print(file_recognition('Y:\\\\490_3.jpg'))\n",
    "print('\\n')"
   ]
  },
  {
   "cell_type": "markdown",
   "id": "ed98ca6f",
   "metadata": {},
   "source": [
    "# Далее эксперименты, можно не смотреть"
   ]
  },
  {
   "cell_type": "code",
   "execution_count": null,
   "id": "fd56f510",
   "metadata": {},
   "outputs": [],
   "source": [
    "def get_grayscale(image):  #это не уменьшает почему то размер изображения\n",
    "    return cv2.cvtColor(image, cv2.COLOR_BGR2GRAY)"
   ]
  },
  {
   "cell_type": "code",
   "execution_count": null,
   "id": "5386f798",
   "metadata": {},
   "outputs": [],
   "source": [
    "n = 0\n",
    "pic_data = '..\\\\avto\\\\train_data3\\\\images\\\\train\\\\'\n",
    "for f in os.listdir(pic_data):\n",
    "    n +=1\n",
    "    work_file = os.path.join(pic_data, f)\n",
    "    print(n,'работаем  с файлом: ',work_file)\n",
    "    #img = cv2.imread(work_file)\n",
    "    img = get_grayscale2(work_file)\n",
    "    #cv2.imwrite(work_file,img)\n",
    "print('ОК')"
   ]
  },
  {
   "cell_type": "code",
   "execution_count": null,
   "id": "9841db33",
   "metadata": {},
   "outputs": [],
   "source": [
    "d = file_recognition('..\\\\avto\\\\start_dataset\\\\test\\\\img_2717.jpg')\n",
    "print(d)"
   ]
  },
  {
   "cell_type": "code",
   "execution_count": null,
   "id": "36bddfee",
   "metadata": {},
   "outputs": [],
   "source": [
    "img = Image.open('..\\\\avto\\\\start_dataset\\\\test\\\\img_2717.jpg')\n",
    "img = img.rotate(-90, expand=True)\n",
    "img.save('Y:\\\\img_2717.jpg')"
   ]
  },
  {
   "cell_type": "code",
   "execution_count": null,
   "id": "4c9c0807",
   "metadata": {},
   "outputs": [],
   "source": [
    "from exif import Image as exif"
   ]
  },
  {
   "cell_type": "code",
   "execution_count": null,
   "id": "4a882279",
   "metadata": {},
   "outputs": [],
   "source": [
    "#не распознанные img_2674.heic img_2715.jpg img_2717.jpg"
   ]
  },
  {
   "cell_type": "code",
   "execution_count": null,
   "id": "a79efd94",
   "metadata": {},
   "outputs": [],
   "source": [
    "\n",
    "get_focus_from_exif(\"..\\\\avto\\\\start_dataset\\\\test\\\\img_1602.jpg\")"
   ]
  },
  {
   "cell_type": "code",
   "execution_count": null,
   "id": "12398934",
   "metadata": {},
   "outputs": [],
   "source": [
    "with open('Y:\\\\421_2.jpg', \"rb\") as palm_2_file:\n",
    "    palm_2_image = exif(palm_2_file)\n",
    "with open('Y:\\\\421_1.jpg', \"rb\") as palm_1_file:\n",
    "    palm_1_image = exif(palm_1_file)\n",
    "\n",
    "images = [palm_1_image, palm_2_image]"
   ]
  },
  {
   "cell_type": "code",
   "execution_count": null,
   "id": "1a4ecd93",
   "metadata": {},
   "outputs": [],
   "source": [
    "if palm_1_image.has_exif:\n",
    "    status = f\"contains EXIF (version {palm_1_image.exif_version}) information.\"\n",
    "else:\n",
    "    status = \"does not contain any EXIF information.\"\n",
    "print(f\"Image {status}\")"
   ]
  },
  {
   "cell_type": "code",
   "execution_count": null,
   "id": "25101089",
   "metadata": {},
   "outputs": [],
   "source": [
    "image_members = []\n",
    "\n",
    "for image in images:\n",
    "    image_members.append(dir(image))\n",
    "\n",
    "for index, image_member_list in enumerate(image_members):\n",
    "    print(f\"Image {index} contains {len(image_member_list)} members:\")\n",
    "    print(f\"{image_member_list}\\n\")"
   ]
  },
  {
   "cell_type": "code",
   "execution_count": null,
   "id": "95bca7cc",
   "metadata": {},
   "outputs": [],
   "source": [
    "palm_1_image.get('focal_length_in_35mm_film', 'Unknown')"
   ]
  },
  {
   "cell_type": "code",
   "execution_count": null,
   "id": "d001fd54",
   "metadata": {},
   "outputs": [],
   "source": [
    "for i in image_member_list:\n",
    "    print(i,palm_1_image.get(i, 'Unknown'))"
   ]
  },
  {
   "cell_type": "code",
   "execution_count": null,
   "id": "77780838",
   "metadata": {},
   "outputs": [],
   "source": [
    "for index, image in enumerate(images):\n",
    "    print(f\"Lens and OS - Image {index}\")\n",
    "    print(\"---------------------\")\n",
    "    print(f\"focal_length_in_35mm_film: {image.get('focal_length_in_35mm_film', 'Unknown')}\")\n",
    "    print(f\"Lens model: {image.get('lens_model', 'Unknown')}\")\n",
    "    print(f\"Lens specification: {image.get('lens_specification', 'Unknown')}\")\n",
    "    print(f\"OS version: {image.get('software', 'Unknown')}\\n\")"
   ]
  },
  {
   "cell_type": "code",
   "execution_count": null,
   "id": "395a6c6f",
   "metadata": {},
   "outputs": [],
   "source": [
    "for i in image_member_list:\n",
    "    print(i)"
   ]
  },
  {
   "cell_type": "code",
   "execution_count": null,
   "id": "500bda25",
   "metadata": {},
   "outputs": [],
   "source": [
    "import exifread\n",
    "f = open('..\\\\avto\\\\start_dataset\\\\test\\\\img_2674.heic', 'rb')\n",
    "#f = open('..\\\\avto\\\\start_dataset\\\\test\\\\img_1598.jpg', 'rb')\n",
    "\n",
    "tags = exifread.process_file(f,details=False)"
   ]
  },
  {
   "cell_type": "code",
   "execution_count": null,
   "id": "29fa0cee",
   "metadata": {},
   "outputs": [],
   "source": [
    "tags['EXIF FocalLengthIn35mmFilm']"
   ]
  },
  {
   "cell_type": "code",
   "execution_count": null,
   "id": "1bcf3e8e",
   "metadata": {},
   "outputs": [],
   "source": [
    "for tag in tags.keys():\n",
    "    print (\"Key: %s, value %s\" % (tag, tags[tag]))"
   ]
  },
  {
   "cell_type": "code",
   "execution_count": null,
   "id": "eecea630",
   "metadata": {},
   "outputs": [],
   "source": [
    "decodeImage('..\\avto\\start_dataset\\test\\img_2674.heic')"
   ]
  },
  {
   "cell_type": "code",
   "execution_count": null,
   "id": "2bbdbaf4",
   "metadata": {},
   "outputs": [],
   "source": [
    "heif_file = pillow_heif.open_heif('..\\\\avto\\\\start_dataset\\\\test\\\\img_2674.heic')\n",
    "print(\"image mode:\", heif_file.mode)\n",
    "print(\"image data length:\", len(heif_file.data))\n",
    "print(\"image data stride:\", heif_file.stride)\n",
    "heif_file.convert_to(\"RGB;16\")  # convert 10 bit image to RGB 16 bit.\n",
    "print(\"image mode:\", heif_file.info.keys())"
   ]
  },
  {
   "cell_type": "code",
   "execution_count": null,
   "id": "cb80d135",
   "metadata": {},
   "outputs": [],
   "source": [
    "print(heif_file.info['exif'])"
   ]
  },
  {
   "cell_type": "code",
   "execution_count": null,
   "id": "48604ef8",
   "metadata": {},
   "outputs": [],
   "source": [
    " heif_file = pillow_heif.read_heif(file)\n",
    "    image = Image.frombytes(\n",
    "        heif_file.mode,\n",
    "        heif_file.size,\n",
    "        heif_file.data,"
   ]
  },
  {
   "cell_type": "code",
   "execution_count": null,
   "id": "d1d37dcf",
   "metadata": {},
   "outputs": [],
   "source": [
    "https://pillow-heif.readthedocs.io/en/latest/reference/API.html"
   ]
  }
 ],
 "metadata": {
  "kernelspec": {
   "display_name": "Python 3 (ipykernel)",
   "language": "python",
   "name": "python3"
  },
  "language_info": {
   "codemirror_mode": {
    "name": "ipython",
    "version": 3
   },
   "file_extension": ".py",
   "mimetype": "text/x-python",
   "name": "python",
   "nbconvert_exporter": "python",
   "pygments_lexer": "ipython3",
   "version": "3.8.13"
  }
 },
 "nbformat": 4,
 "nbformat_minor": 5
}
